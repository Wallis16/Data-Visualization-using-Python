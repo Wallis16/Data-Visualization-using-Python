{
 "cells": [
  {
   "cell_type": "code",
   "execution_count": 34,
   "metadata": {},
   "outputs": [],
   "source": [
    "from bqplot import pyplot as plt\n",
    "from bqplot import *\n",
    "import numpy as np\n",
    "import pandas as pd\n",
    "from __future__ import print_function\n",
    "from ipywidgets import VBox, HBox, Layout\n",
    "import os"
   ]
  },
  {
   "cell_type": "code",
   "execution_count": 35,
   "metadata": {},
   "outputs": [],
   "source": [
    "county_data = pd.read_csv(\"2008-election-results.csv\")"
   ]
  },
  {
   "cell_type": "code",
   "execution_count": 36,
   "metadata": {},
   "outputs": [
    {
     "data": {
      "text/html": [
       "<div>\n",
       "<style scoped>\n",
       "    .dataframe tbody tr th:only-of-type {\n",
       "        vertical-align: middle;\n",
       "    }\n",
       "\n",
       "    .dataframe tbody tr th {\n",
       "        vertical-align: top;\n",
       "    }\n",
       "\n",
       "    .dataframe thead th {\n",
       "        text-align: right;\n",
       "    }\n",
       "</style>\n",
       "<table border=\"1\" class=\"dataframe\">\n",
       "  <thead>\n",
       "    <tr style=\"text-align: right;\">\n",
       "      <th></th>\n",
       "      <th>Unnamed: 0</th>\n",
       "      <th>County</th>\n",
       "      <th>FIPS</th>\n",
       "      <th>State</th>\n",
       "      <th>Obama %</th>\n",
       "      <th>McCain %</th>\n",
       "      <th>Obama</th>\n",
       "      <th>McCain</th>\n",
       "    </tr>\n",
       "  </thead>\n",
       "  <tbody>\n",
       "    <tr>\n",
       "      <th>0</th>\n",
       "      <td>0</td>\n",
       "      <td>State House District 8, Denali-University</td>\n",
       "      <td>2008.0</td>\n",
       "      <td>AK</td>\n",
       "      <td>48.40</td>\n",
       "      <td>48.28</td>\n",
       "      <td>4995.0</td>\n",
       "      <td>4983.0</td>\n",
       "    </tr>\n",
       "    <tr>\n",
       "      <th>1</th>\n",
       "      <td>0</td>\n",
       "      <td>State House District 37, Bristol Bay-Aleuti</td>\n",
       "      <td>2037.0</td>\n",
       "      <td>AK</td>\n",
       "      <td>40.04</td>\n",
       "      <td>57.04</td>\n",
       "      <td>1868.0</td>\n",
       "      <td>2661.0</td>\n",
       "    </tr>\n",
       "    <tr>\n",
       "      <th>2</th>\n",
       "      <td>0</td>\n",
       "      <td>State House District 12, Richardson-Glenn H</td>\n",
       "      <td>2012.0</td>\n",
       "      <td>AK</td>\n",
       "      <td>25.22</td>\n",
       "      <td>72.04</td>\n",
       "      <td>1914.0</td>\n",
       "      <td>5467.0</td>\n",
       "    </tr>\n",
       "    <tr>\n",
       "      <th>3</th>\n",
       "      <td>0</td>\n",
       "      <td>State House District 13, Greater Palmer</td>\n",
       "      <td>2013.0</td>\n",
       "      <td>AK</td>\n",
       "      <td>24.29</td>\n",
       "      <td>73.16</td>\n",
       "      <td>2800.0</td>\n",
       "      <td>8432.0</td>\n",
       "    </tr>\n",
       "    <tr>\n",
       "      <th>4</th>\n",
       "      <td>0</td>\n",
       "      <td>State House District 14, Greater Wasilla</td>\n",
       "      <td>2014.0</td>\n",
       "      <td>AK</td>\n",
       "      <td>20.39</td>\n",
       "      <td>77.54</td>\n",
       "      <td>2132.0</td>\n",
       "      <td>8108.0</td>\n",
       "    </tr>\n",
       "  </tbody>\n",
       "</table>\n",
       "</div>"
      ],
      "text/plain": [
       "   Unnamed: 0                                       County    FIPS State  \\\n",
       "0           0    State House District 8, Denali-University  2008.0    AK   \n",
       "1           0  State House District 37, Bristol Bay-Aleuti  2037.0    AK   \n",
       "2           0  State House District 12, Richardson-Glenn H  2012.0    AK   \n",
       "3           0      State House District 13, Greater Palmer  2013.0    AK   \n",
       "4           0     State House District 14, Greater Wasilla  2014.0    AK   \n",
       "\n",
       "   Obama %  McCain %   Obama  McCain  \n",
       "0    48.40     48.28  4995.0  4983.0  \n",
       "1    40.04     57.04  1868.0  2661.0  \n",
       "2    25.22     72.04  1914.0  5467.0  \n",
       "3    24.29     73.16  2800.0  8432.0  \n",
       "4    20.39     77.54  2132.0  8108.0  "
      ]
     },
     "execution_count": 36,
     "metadata": {},
     "output_type": "execute_result"
    }
   ],
   "source": [
    "county_data.head()"
   ]
  },
  {
   "cell_type": "code",
   "execution_count": 37,
   "metadata": {},
   "outputs": [],
   "source": [
    "winner = np.array(['McCain'] * county_data.shape[0])"
   ]
  },
  {
   "cell_type": "code",
   "execution_count": 38,
   "metadata": {},
   "outputs": [],
   "source": [
    "winner[(county_data['Obama'] > county_data['McCain']).values] = 'Obama'"
   ]
  },
  {
   "cell_type": "code",
   "execution_count": 39,
   "metadata": {},
   "outputs": [],
   "source": [
    "sc_geo_county = AlbersUSA()\n",
    "sc_c1_county = OrdinalColorScale(domain=['McCain','Obama'], colors=['Red', 'DeepSkyBlue'])\n",
    "\n",
    "color_data_county = dict(zip(county_data['FIPS'].values.astype(int), list(winner)))\n",
    "\n",
    "map_styles_county = {'color': color_data_county, 'scales': {'projection': sc_geo_county, 'color': sc_c1_county},\n",
    "                    'colors': {'default_color': 'Grey'}}\n",
    "\n",
    "axis_county = ColorAxis(scale=sc_c1_county)\n",
    "\n",
    "county_map = Map(map_data = topo_load('map_data/USCountiesMap.json'), **map_styles_county)\n",
    "county_fig = Figure(marks=[county_map], axes=[axis_county],title='US Elections 2008 - Example',\n",
    "                   layout=Layout(min_width='800px',min_height='550px'))"
   ]
  },
  {
   "cell_type": "code",
   "execution_count": 41,
   "metadata": {},
   "outputs": [],
   "source": [
    "names_sc = OrdinalScale(domain=['Obama', 'McCain'])\n",
    "vote_sc_y = LinearScale(min=0, max=100.)\n",
    "\n",
    "names_ax = Axis(scale=names_sc, label='Candidate')\n",
    "vote_ax = Axis(scale=vote_sc_y, orientation='vertical', label='Percentage')\n",
    "\n",
    "vote_bars = Bars(scales={'x': names_sc, 'y': vote_sc_y}, colors=['#2aa1ec','#E91D0E'])\n",
    "\n",
    "bar_fig = Figure(marks=[vote_bars],axes=[names_ax, vote_ax], title='Vote Margin',\n",
    "                layout = Layout(min_width='600px',min_height='400px'))"
   ]
  },
  {
   "cell_type": "code",
   "execution_count": 42,
   "metadata": {},
   "outputs": [],
   "source": [
    "def county_hover(name, value):\n",
    "    if(county_data['FIPS'] == value['data']['id']).sum()==0:\n",
    "        bar_fig.title = ''\n",
    "        vote_bars.y = [0.,0.]\n",
    "        return\n",
    "    votes = county_data[county_data['FIPS'] == value['data']['id']]\n",
    "    dem_vote = float(votes['Obama %'].values[0])\n",
    "    rep_vote = float(votes['McCain %'].values[0])\n",
    "    \n",
    "    vote_bars.x, vote_bars.y = ['Obama', 'McCain'],[dem_vote, rep_vote]\n",
    "    bar_fig.title = 'Vote % -' + value['data']['name']\n",
    "    \n",
    "county_map.on_hover(county_hover)\n",
    "county_map.tooltip = bar_fig"
   ]
  },
  {
   "cell_type": "code",
   "execution_count": 43,
   "metadata": {},
   "outputs": [
    {
     "data": {
      "application/vnd.jupyter.widget-view+json": {
       "model_id": "822d28b2402f48e38f90cda9337373e7",
       "version_major": 2,
       "version_minor": 0
      },
      "text/plain": [
       "Figure(axes=[ColorAxis(scale=OrdinalColorScale(colors=['Red', 'DeepSkyBlue'], domain=['McCain', 'Obama']))], f…"
      ]
     },
     "metadata": {},
     "output_type": "display_data"
    }
   ],
   "source": [
    "county_fig"
   ]
  },
  {
   "cell_type": "code",
   "execution_count": null,
   "metadata": {},
   "outputs": [],
   "source": [
    "#code by udemy.com -- Python: Data Visualization using Python -- class 29"
   ]
  },
  {
   "cell_type": "code",
   "execution_count": null,
   "metadata": {},
   "outputs": [],
   "source": []
  },
  {
   "cell_type": "code",
   "execution_count": null,
   "metadata": {},
   "outputs": [],
   "source": []
  },
  {
   "cell_type": "code",
   "execution_count": null,
   "metadata": {},
   "outputs": [],
   "source": []
  },
  {
   "cell_type": "code",
   "execution_count": null,
   "metadata": {},
   "outputs": [],
   "source": []
  }
 ],
 "metadata": {
  "kernelspec": {
   "display_name": "Python 3",
   "language": "python",
   "name": "python3"
  },
  "language_info": {
   "codemirror_mode": {
    "name": "ipython",
    "version": 3
   },
   "file_extension": ".py",
   "mimetype": "text/x-python",
   "name": "python",
   "nbconvert_exporter": "python",
   "pygments_lexer": "ipython3",
   "version": "3.5.2"
  }
 },
 "nbformat": 4,
 "nbformat_minor": 2
}
